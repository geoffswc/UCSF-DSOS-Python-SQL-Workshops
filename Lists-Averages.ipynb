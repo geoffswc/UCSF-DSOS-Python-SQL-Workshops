{
 "cells": [
  {
   "cell_type": "code",
   "execution_count": 40,
   "id": "1ab67bc6-661b-4946-9c6d-c3e228ceb428",
   "metadata": {},
   "outputs": [
    {
     "name": "stdout",
     "output_type": "stream",
     "text": [
      "hello\n"
     ]
    }
   ],
   "source": [
    "print(\"hello\")"
   ]
  },
  {
   "cell_type": "code",
   "execution_count": 13,
   "id": "d82b55f2-2b14-427d-80c5-899fc4fd1aef",
   "metadata": {},
   "outputs": [],
   "source": [
    "gdp_readings = [1000.1, 1100, 1200, 1500, 1400, 1500.5, 1800, 2000, 2010, 2020]"
   ]
  },
  {
   "cell_type": "code",
   "execution_count": 14,
   "id": "2b7a730a-9fd6-4549-94f7-f066ca8a4eee",
   "metadata": {},
   "outputs": [
    {
     "name": "stdout",
     "output_type": "stream",
     "text": [
      "1000.1\n",
      "1100\n",
      "1200\n",
      "1500\n",
      "1400\n",
      "1500.5\n",
      "1800\n",
      "2000\n",
      "2010\n",
      "2020\n"
     ]
    }
   ],
   "source": [
    "for gdp in gdp_readings:\n",
    "    print(gdp)"
   ]
  },
  {
   "cell_type": "code",
   "execution_count": 15,
   "id": "f3bec338-64f7-4393-87a1-7c3368cdb7dd",
   "metadata": {},
   "outputs": [],
   "source": [
    "# how would you calculate the average, median, mean, standard deviation, max, min, and interquartile range for this list?\n",
    "# (we will use pandas for this very soon)"
   ]
  },
  {
   "cell_type": "code",
   "execution_count": 16,
   "id": "9f65f4c7-8028-4786-aab4-f7aba404b025",
   "metadata": {},
   "outputs": [
    {
     "data": {
      "text/plain": [
       "10"
      ]
     },
     "execution_count": 16,
     "metadata": {},
     "output_type": "execute_result"
    }
   ],
   "source": [
    "len(gdp_readings)"
   ]
  },
  {
   "cell_type": "code",
   "execution_count": 17,
   "id": "c9f8725e-3a35-4190-bd56-4d72c1701b28",
   "metadata": {},
   "outputs": [
    {
     "name": "stdout",
     "output_type": "stream",
     "text": [
      "15530.6\n"
     ]
    }
   ],
   "source": [
    "gdp_sum = 0\n",
    "for gdp in gdp_readings:\n",
    "    gdp_sum = gdp_sum + gdp\n",
    "\n",
    "print(gdp_sum)"
   ]
  },
  {
   "cell_type": "code",
   "execution_count": 30,
   "id": "7935cf8b-3d21-4dbb-b02a-64a49c42f59d",
   "metadata": {},
   "outputs": [
    {
     "data": {
      "text/plain": [
       "1553.06"
      ]
     },
     "execution_count": 30,
     "metadata": {},
     "output_type": "execute_result"
    }
   ],
   "source": [
    "sum(gdp_readings)/len(gdp_readings)"
   ]
  },
  {
   "cell_type": "code",
   "execution_count": 19,
   "id": "5be7cf7f-82f5-46b6-8dd3-570b7bd6eaf2",
   "metadata": {},
   "outputs": [],
   "source": [
    "# how could we print when the gdp is less than it was the previous year?"
   ]
  },
  {
   "cell_type": "code",
   "execution_count": 31,
   "id": "b5506f58-888d-4029-a53e-6de28ea2141f",
   "metadata": {},
   "outputs": [
    {
     "name": "stdout",
     "output_type": "stream",
     "text": [
      "0 1000.1\n",
      "1 1100\n",
      "1 1100\n",
      "2 1200\n",
      "2 1200\n",
      "3 1500\n",
      "3 1500\n",
      "4 1400\n",
      "gdp is less than it was the previous year\n",
      "4 1400\n",
      "5 1500.5\n",
      "5 1500.5\n",
      "6 1800\n",
      "6 1800\n",
      "7 2000\n",
      "7 2000\n",
      "8 2010\n",
      "8 2010\n",
      "9 2020\n"
     ]
    }
   ],
   "source": [
    "for i in range(1,len(gdp_readings)):\n",
    "    print(i-1, gdp_readings[i-1])\n",
    "    print(i, gdp_readings[i])\n",
    "    if gdp_readings[i-1] > gdp_readings[i]:\n",
    "        print(\"gdp is less than it was the previous year\")"
   ]
  },
  {
   "cell_type": "code",
   "execution_count": 22,
   "id": "88117a95-4152-4bfc-ae2b-c6e78093c5e5",
   "metadata": {},
   "outputs": [
    {
     "data": {
      "text/plain": [
       "1100"
      ]
     },
     "execution_count": 22,
     "metadata": {},
     "output_type": "execute_result"
    }
   ],
   "source": [
    "gdp_readings[1]"
   ]
  },
  {
   "cell_type": "code",
   "execution_count": 32,
   "id": "4f83f8c7-614a-4820-b5db-69b7bfea6828",
   "metadata": {},
   "outputs": [
    {
     "name": "stdout",
     "output_type": "stream",
     "text": [
      "Variable       Type     Data/Info\n",
      "---------------------------------\n",
      "gdp            int      2020\n",
      "gdp_readings   list     n=10\n",
      "gdp_sum        float    15530.6\n",
      "i              int      9\n"
     ]
    }
   ],
   "source": [
    "whos"
   ]
  },
  {
   "cell_type": "code",
   "execution_count": 33,
   "id": "1149e03e-8109-437d-b96f-8aa5b8536f5c",
   "metadata": {},
   "outputs": [
    {
     "data": {
      "text/plain": [
       "15530.6"
      ]
     },
     "execution_count": 33,
     "metadata": {},
     "output_type": "execute_result"
    }
   ],
   "source": [
    "sum(gdp_readings)"
   ]
  },
  {
   "cell_type": "code",
   "execution_count": 34,
   "id": "244c0bde-f16b-4f33-9503-cd379af64ffc",
   "metadata": {},
   "outputs": [],
   "source": [
    "sum = 1500"
   ]
  },
  {
   "cell_type": "code",
   "execution_count": 35,
   "id": "30befcea-58e0-4ee8-ab8a-4ede6154e568",
   "metadata": {},
   "outputs": [
    {
     "name": "stdout",
     "output_type": "stream",
     "text": [
      "Variable       Type     Data/Info\n",
      "---------------------------------\n",
      "gdp            int      2020\n",
      "gdp_readings   list     n=10\n",
      "gdp_sum        float    15530.6\n",
      "i              int      9\n",
      "sum            int      1500\n"
     ]
    }
   ],
   "source": [
    "whos"
   ]
  },
  {
   "cell_type": "code",
   "execution_count": 37,
   "id": "31ad6057-66ac-4e10-b414-0a7de9b88498",
   "metadata": {},
   "outputs": [
    {
     "ename": "TypeError",
     "evalue": "'int' object is not callable",
     "output_type": "error",
     "traceback": [
      "\u001b[0;31m---------------------------------------------------------------------------\u001b[0m",
      "\u001b[0;31mTypeError\u001b[0m                                 Traceback (most recent call last)",
      "Cell \u001b[0;32mIn[37], line 1\u001b[0m\n\u001b[0;32m----> 1\u001b[0m \u001b[38;5;28msum\u001b[39m(gdp_readings)\n",
      "\u001b[0;31mTypeError\u001b[0m: 'int' object is not callable"
     ]
    }
   ],
   "source": [
    "sum(gdp_readings)"
   ]
  },
  {
   "cell_type": "code",
   "execution_count": 38,
   "id": "2d65f866-0e2f-4931-aaf4-6e7ae431c261",
   "metadata": {},
   "outputs": [],
   "source": [
    "del sum"
   ]
  },
  {
   "cell_type": "code",
   "execution_count": 39,
   "id": "17323af5-a539-4575-8601-aec12af34596",
   "metadata": {},
   "outputs": [
    {
     "name": "stdout",
     "output_type": "stream",
     "text": [
      "Variable       Type     Data/Info\n",
      "---------------------------------\n",
      "gdp            int      2020\n",
      "gdp_readings   list     n=10\n",
      "gdp_sum        float    15530.6\n",
      "i              int      9\n"
     ]
    }
   ],
   "source": [
    "whos"
   ]
  },
  {
   "cell_type": "code",
   "execution_count": null,
   "id": "1fccf7f7-20cf-44a2-bdd8-68e85aaf47d3",
   "metadata": {},
   "outputs": [],
   "source": []
  }
 ],
 "metadata": {
  "kernelspec": {
   "display_name": "Python 3 (ipykernel)",
   "language": "python",
   "name": "python3"
  },
  "language_info": {
   "codemirror_mode": {
    "name": "ipython",
    "version": 3
   },
   "file_extension": ".py",
   "mimetype": "text/x-python",
   "name": "python",
   "nbconvert_exporter": "python",
   "pygments_lexer": "ipython3",
   "version": "3.11.7"
  }
 },
 "nbformat": 4,
 "nbformat_minor": 5
}
