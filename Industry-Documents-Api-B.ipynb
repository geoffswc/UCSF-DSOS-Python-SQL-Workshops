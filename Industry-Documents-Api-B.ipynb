{
 "cells": [
  {
   "cell_type": "code",
   "execution_count": 1,
   "id": "35f73621-bfb6-4cbb-8213-ffb5ac4cd0ae",
   "metadata": {},
   "outputs": [],
   "source": [
    "import requests"
   ]
  },
  {
   "cell_type": "code",
   "execution_count": 2,
   "id": "52b15c70-e88c-43f5-ad23-00a2edddfed5",
   "metadata": {},
   "outputs": [],
   "source": [
    "url = \"https://metadata.idl.ucsf.edu/solr/ltdl3/query?q=id:glmb0082&wt=json%0d\"\n",
    "r = requests.get(url)\n",
    "r.url\n",
    "data = r.json()"
   ]
  },
  {
   "cell_type": "code",
   "execution_count": 3,
   "id": "132c252b-0e9e-46f4-8cfd-88c0351cb14f",
   "metadata": {},
   "outputs": [
    {
     "data": {
      "text/plain": [
       "dict"
      ]
     },
     "execution_count": 3,
     "metadata": {},
     "output_type": "execute_result"
    }
   ],
   "source": [
    "type(data)"
   ]
  },
  {
   "cell_type": "code",
   "execution_count": 4,
   "id": "825bdbba-33d6-43c3-acaf-31d25e25ccf7",
   "metadata": {},
   "outputs": [],
   "source": [
    "#data"
   ]
  },
  {
   "cell_type": "code",
   "execution_count": 5,
   "id": "090f50bf-d3ac-4bbf-8e14-42519b8c98f6",
   "metadata": {},
   "outputs": [],
   "source": [
    "# this didn't produce the intended url - during the workshop we embedded the\n",
    "# query into the URL instead of debugging it, but I added a solution to the end\n",
    "# of this notebook, please look for it there...\n",
    "\n",
    "# THIS DIDN'T WORK! The correct code is at the end of this notebook.\n",
    "\n",
    "#post how to make this work on the CLE\n",
    "#url = \"https://metadata.idl.ucsf.edu/solr/ltdl3/query\"\n",
    "#payload = {'id':'glmb0082', 'wt':'json'}\n",
    "\n",
    "#r = requests.get(url, payload)\n",
    "\n",
    "#r.url"
   ]
  },
  {
   "cell_type": "code",
   "execution_count": 6,
   "id": "1b006769-f0b1-4e34-a00b-8a0445401ca0",
   "metadata": {},
   "outputs": [],
   "source": [
    "# first, let's get at some data\n",
    "# next, let's parse multiple results with json"
   ]
  },
  {
   "cell_type": "code",
   "execution_count": 7,
   "id": "27af9bb0-2b58-40af-8794-eb1d3f21fef6",
   "metadata": {},
   "outputs": [],
   "source": [
    "#url = \"https://metadata.idl.ucsf.edu/solr/ltdl3/query?q=id:glmb0082&wt=json%0d\"\n",
    "url = \"https://metadata.idl.ucsf.edu/solr/ltdl3/query?q=eggplant&wt=json\"\n",
    "r = requests.get(url)\n",
    "r.url\n",
    "data = r.json()"
   ]
  },
  {
   "cell_type": "code",
   "execution_count": 8,
   "id": "2cc2ee08-b51f-4629-8762-0c69b723dbeb",
   "metadata": {},
   "outputs": [
    {
     "data": {
      "text/plain": [
       "dict_keys(['responseHeader', 'response'])"
      ]
     },
     "execution_count": 8,
     "metadata": {},
     "output_type": "execute_result"
    }
   ],
   "source": [
    "data.keys()"
   ]
  },
  {
   "cell_type": "code",
   "execution_count": 9,
   "id": "79386f95-2506-4fb5-a274-a0c30fcd6c62",
   "metadata": {},
   "outputs": [
    {
     "data": {
      "text/plain": [
       "{'id': 'glmb0082',\n",
       " 'tid': 'usw14d00',\n",
       " 'collection': ['RJ Reynolds Records', 'Master Settlement Agreement'],\n",
       " 'collectioncode': ['rj', 'msa'],\n",
       " 'box': 'RJR4401',\n",
       " 'availability': ['public', 'no restrictions'],\n",
       " 'case': ['PROP65 1RFP1; LANE RFP14 20000511; US COMPREHENSIVE REQUEST 103; US COMPREHENSIVE REQUEST 80; US COMPREHENSIVE REQUEST 47; US COMPREHENSIVE REQUEST 61; US COMPREHENSIVE REQUEST 263; LONGDEN INT2; RAMSEY BUCKINGHAM 1INT14; RAMSEY BUCKINGHAM 1INT17; RAMSEY BUCKINGHAM 1INT20; RAMSEY BUCKINGHAM 1INT19; RAMSEY BUCKINGHAM 1INT18; MINNESOTA 4RFP9'],\n",
       " 'area': 'EXTERNAL RELATIONS;PUBLIC RELATIONS;WHITT DD;ASST REP',\n",
       " 'topic': 'IN-HOUSE RESEARCH ON SMOKING & HEALTH; RESEARCH CONDUCTED AT R.J. REYNOLDS REGARDING THE HEALTH CONSEQUENCES OF SMOKING; SMOKING AND CANCER; SMOKING AND LUNG CANCER; SMOKING BY-PRODUCTS; TOBACCO SMOKE CONSTITUENTS',\n",
       " 'title': 'WHAT DO CIGARETTES, TOMATOES, GREEN PEPPERS AND EGGPLANTS HAVE IN COMMON?',\n",
       " 'documentdate': '1990 November 29',\n",
       " 'type': ['report'],\n",
       " 'pages': 11,\n",
       " 'mentioned': ['UNIV OF MIAMI',\n",
       "  'ROBINSON AA',\n",
       "  'EPA',\n",
       "  'METTLIN C',\n",
       "  'ROSWELL PARK MEMORIAL INSTITUTE',\n",
       "  'INSTITUTO NAZIONALE TUMORI',\n",
       "  'RISKFOCUS VERSAR',\n",
       "  'US DEPT OF TRANSPORTATION',\n",
       "  'BROOKINGS INSTITUTION',\n",
       "  'RJR'],\n",
       " 'description': 'N',\n",
       " 'bates': '507719342-507719352',\n",
       " 'batesmaster': '9341 -9352',\n",
       " 'requestnumber': '4RFP9',\n",
       " 'minnesotarequestnumber': 'DUNN 5RFP1; DUNN 5RFP2; MINNESOTA 4RFP9; PROP65 1RFP1',\n",
       " 'dateproduced': '1996 January 31',\n",
       " 'dateshipped': '1999 January 07',\n",
       " 'dateaddeducsf': '2002 February 01',\n",
       " 'dateaddedindustry': '1999 February 18',\n",
       " 'datemodifiedindustry': '2012 April 17'}"
      ]
     },
     "execution_count": 9,
     "metadata": {},
     "output_type": "execute_result"
    }
   ],
   "source": [
    "data['response']['docs'][1]"
   ]
  },
  {
   "cell_type": "code",
   "execution_count": 10,
   "id": "c075ce30-9e13-43db-ba1e-b8e0790b096e",
   "metadata": {},
   "outputs": [
    {
     "name": "stdout",
     "output_type": "stream",
     "text": [
      "IN-HOUSE RESEARCH ON SMOKING & HEALTH; NICOTINE AND ADDICTION; RESEARCH CONDUCTED AT R.J. REYNOLDS REGARDING THE HEALTH CONSEQUENCES OF SMOKING; SMOKING AND CANCER; SMOKING AND LUNG CANCER; SMOKING BY-PRODUCTS; TOBACCO SMOKE CONSTITUENTS\n",
      "IN-HOUSE RESEARCH ON SMOKING & HEALTH; RESEARCH CONDUCTED AT R.J. REYNOLDS REGARDING THE HEALTH CONSEQUENCES OF SMOKING; SMOKING AND CANCER; SMOKING AND LUNG CANCER; SMOKING BY-PRODUCTS; TOBACCO SMOKE CONSTITUENTS\n",
      "SMOKING AND CANCER; SMOKING AND LUNG CANCER; SMOKING BY-PRODUCTS; TOBACCO SMOKE CONSTITUENTS\n",
      "SMOKING AND CANCER; SMOKING AND LUNG CANCER; SMOKING BY-PRODUCTS; TOBACCO SMOKE CONSTITUENTS\n",
      "NICOTINE AND ADDICTION; SMOKING AND CANCER; SMOKING AND LUNG CANCER; SMOKING BY-PRODUCTS; TOBACCO SMOKE CONSTITUENTS\n",
      "*** no topic for this record ***\n",
      "*** no topic for this record ***\n",
      "*** no topic for this record ***\n",
      "*** no topic for this record ***\n",
      "*** no topic for this record ***\n",
      "*** no topic for this record ***\n",
      "*** no topic for this record ***\n",
      "*** no topic for this record ***\n",
      "*** no topic for this record ***\n",
      "*** no topic for this record ***\n",
      "*** no topic for this record ***\n",
      "*** no topic for this record ***\n",
      "*** no topic for this record ***\n",
      "*** no topic for this record ***\n",
      "*** no topic for this record ***\n",
      "*** no topic for this record ***\n",
      "*** no topic for this record ***\n",
      "*** no topic for this record ***\n",
      "*** no topic for this record ***\n",
      "*** no topic for this record ***\n",
      "*** no topic for this record ***\n",
      "*** no topic for this record ***\n",
      "*** no topic for this record ***\n",
      "*** no topic for this record ***\n",
      "*** no topic for this record ***\n",
      "BIOLOGICAL ACTIVITY OF CIGARETTES\n",
      "*** no topic for this record ***\n",
      "*** no topic for this record ***\n",
      "*** no topic for this record ***\n",
      "*** no topic for this record ***\n",
      "*** no topic for this record ***\n",
      "*** no topic for this record ***\n",
      "*** no topic for this record ***\n",
      "BIOLOGICAL ACTIVITY OF CIGARETTES; SMOKING BY-PRODUCTS; TOBACCO SMOKE CONSTITUENTS\n",
      "*** no topic for this record ***\n",
      "*** no topic for this record ***\n",
      "*** no topic for this record ***\n",
      "*** no topic for this record ***\n",
      "*** no topic for this record ***\n",
      "*** no topic for this record ***\n",
      "*** no topic for this record ***\n",
      "*** no topic for this record ***\n",
      "*** no topic for this record ***\n",
      "*** no topic for this record ***\n",
      "*** no topic for this record ***\n",
      "BIOLOGICAL ACTIVITY OF CIGARETTES; SMOKING BY-PRODUCTS; TOBACCO SMOKE CONSTITUENTS\n",
      "*** no topic for this record ***\n",
      "*** no topic for this record ***\n",
      "*** no topic for this record ***\n",
      "*** no topic for this record ***\n",
      "*** no topic for this record ***\n",
      "*** no topic for this record ***\n",
      "health risks; marketing and sales\n",
      "health risks; marketing and sales\n",
      "health risks; marketing and sales\n",
      "health risks; marketing and sales\n",
      "health risks; marketing and sales\n",
      "health risks; marketing and sales\n",
      "health risks; marketing and sales\n",
      "health risks; marketing and sales\n",
      "health risks; marketing and sales\n",
      "health risks; marketing and sales\n",
      "health risks; marketing and sales\n",
      "*** no topic for this record ***\n",
      "*** no topic for this record ***\n",
      "*** no topic for this record ***\n",
      "*** no topic for this record ***\n",
      "*** no topic for this record ***\n",
      "*** no topic for this record ***\n",
      "*** no topic for this record ***\n",
      "*** no topic for this record ***\n",
      "*** no topic for this record ***\n",
      "*** no topic for this record ***\n",
      "*** no topic for this record ***\n",
      "*** no topic for this record ***\n",
      "*** no topic for this record ***\n",
      "*** no topic for this record ***\n",
      "*** no topic for this record ***\n",
      "*** no topic for this record ***\n",
      "*** no topic for this record ***\n",
      "*** no topic for this record ***\n",
      "*** no topic for this record ***\n",
      "*** no topic for this record ***\n",
      "*** no topic for this record ***\n",
      "health risks; marketing and sales\n",
      "health risks; marketing and sales\n",
      "*** no topic for this record ***\n",
      "*** no topic for this record ***\n",
      "*** no topic for this record ***\n",
      "*** no topic for this record ***\n",
      "*** no topic for this record ***\n",
      "*** no topic for this record ***\n",
      "*** no topic for this record ***\n",
      "*** no topic for this record ***\n",
      "*** no topic for this record ***\n"
     ]
    }
   ],
   "source": [
    "for doc in data['response']['docs']:\n",
    "    if 'topic' in doc:\n",
    "        print(doc['topic'])\n",
    "    else:\n",
    "        print(\"*** no topic for this record ***\")"
   ]
  },
  {
   "cell_type": "code",
   "execution_count": 11,
   "id": "b7963a37-acfb-4e0e-bae1-ee612daa3991",
   "metadata": {},
   "outputs": [
    {
     "data": {
      "text/plain": [
       "'https://metadata.idl.ucsf.edu/solr/ltdl3/query?id=glmb0082&wt=json'"
      ]
     },
     "execution_count": 11,
     "metadata": {},
     "output_type": "execute_result"
    }
   ],
   "source": [
    "# this is the approach, using payload, that didn't work\n",
    "# the reason is that treated ID as a query parameter in the URL\n",
    "# it actually isn't! look at the URL this generates. It's not the\n",
    "# same as the hardcoded one. It treates the ID as a query parameter\n",
    "# in the URL, and has id=glmb0082 instead of id:glmb0082!\n",
    "# if you run this, it will retrieve a huge number of records (though\n",
    "# fortunately, only the first 100 will be included in the json)\n",
    "\n",
    "# unfortunately, this is the result of a slightly more complicated\n",
    "# API interface than the usual first example you'll see. \n",
    "# For a simpler first example, see:\n",
    "# https://github.com/geoffswc/Python-JSON-Workshop/blob/master/APIRequest.ipynb\n",
    "\n",
    "url = \"https://metadata.idl.ucsf.edu/solr/ltdl3/query\"\n",
    "payload = {'id':'glmb0082', 'wt':'json'}\n",
    "\n",
    "r = requests.get(url, payload)\n",
    "\n",
    "r.url"
   ]
  },
  {
   "cell_type": "code",
   "execution_count": 12,
   "id": "7a608a0e-94a6-4adf-8df3-f77d564440d3",
   "metadata": {},
   "outputs": [],
   "source": [
    "# so how to fix this? \n",
    "\n",
    "url = \"https://metadata.idl.ucsf.edu/solr/ltdl3/query\"\n",
    "params = {\n",
    "    'q': 'id:glmb0082',\n",
    "    'wt': 'json'\n",
    "}\n",
    "\n",
    "response = requests.get(url, params=params)\n",
    "data = response.json()"
   ]
  },
  {
   "cell_type": "code",
   "execution_count": 13,
   "id": "88006723",
   "metadata": {},
   "outputs": [
    {
     "data": {
      "text/plain": [
       "'https://metadata.idl.ucsf.edu/solr/ltdl3/query?q=id%3Aglmb0082&wt=json'"
      ]
     },
     "execution_count": 13,
     "metadata": {},
     "output_type": "execute_result"
    }
   ],
   "source": [
    "# now you can see the resulting URL is correct...\n",
    "response.url"
   ]
  },
  {
   "cell_type": "code",
   "execution_count": 14,
   "id": "0f8ca543",
   "metadata": {},
   "outputs": [
    {
     "data": {
      "text/plain": [
       "{'responseHeader': {'status': 0,\n",
       "  'QTime': 0,\n",
       "  'params': {'q': 'id:glmb0082', 'wt': 'json'}},\n",
       " 'response': {'numFound': 1,\n",
       "  'start': 0,\n",
       "  'numFoundExact': True,\n",
       "  'docs': [{'id': 'glmb0082',\n",
       "    'tid': 'usw14d00',\n",
       "    'collection': ['RJ Reynolds Records', 'Master Settlement Agreement'],\n",
       "    'collectioncode': ['rj', 'msa'],\n",
       "    'box': 'RJR4401',\n",
       "    'availability': ['public', 'no restrictions'],\n",
       "    'case': ['PROP65 1RFP1; LANE RFP14 20000511; US COMPREHENSIVE REQUEST 103; US COMPREHENSIVE REQUEST 80; US COMPREHENSIVE REQUEST 47; US COMPREHENSIVE REQUEST 61; US COMPREHENSIVE REQUEST 263; LONGDEN INT2; RAMSEY BUCKINGHAM 1INT14; RAMSEY BUCKINGHAM 1INT17; RAMSEY BUCKINGHAM 1INT20; RAMSEY BUCKINGHAM 1INT19; RAMSEY BUCKINGHAM 1INT18; MINNESOTA 4RFP9'],\n",
       "    'area': 'EXTERNAL RELATIONS;PUBLIC RELATIONS;WHITT DD;ASST REP',\n",
       "    'topic': 'IN-HOUSE RESEARCH ON SMOKING & HEALTH; RESEARCH CONDUCTED AT R.J. REYNOLDS REGARDING THE HEALTH CONSEQUENCES OF SMOKING; SMOKING AND CANCER; SMOKING AND LUNG CANCER; SMOKING BY-PRODUCTS; TOBACCO SMOKE CONSTITUENTS',\n",
       "    'title': 'WHAT DO CIGARETTES, TOMATOES, GREEN PEPPERS AND EGGPLANTS HAVE IN COMMON?',\n",
       "    'documentdate': '1990 November 29',\n",
       "    'type': ['report'],\n",
       "    'pages': 11,\n",
       "    'mentioned': ['UNIV OF MIAMI',\n",
       "     'ROBINSON AA',\n",
       "     'EPA',\n",
       "     'METTLIN C',\n",
       "     'ROSWELL PARK MEMORIAL INSTITUTE',\n",
       "     'INSTITUTO NAZIONALE TUMORI',\n",
       "     'RISKFOCUS VERSAR',\n",
       "     'US DEPT OF TRANSPORTATION',\n",
       "     'BROOKINGS INSTITUTION',\n",
       "     'RJR'],\n",
       "    'description': 'N',\n",
       "    'bates': '507719342-507719352',\n",
       "    'batesmaster': '9341 -9352',\n",
       "    'requestnumber': '4RFP9',\n",
       "    'minnesotarequestnumber': 'DUNN 5RFP1; DUNN 5RFP2; MINNESOTA 4RFP9; PROP65 1RFP1',\n",
       "    'dateproduced': '1996 January 31',\n",
       "    'dateshipped': '1999 January 07',\n",
       "    'dateaddeducsf': '2002 February 01',\n",
       "    'dateaddedindustry': '1999 February 18',\n",
       "    'datemodifiedindustry': '2012 April 17'}]}}"
      ]
     },
     "execution_count": 14,
     "metadata": {},
     "output_type": "execute_result"
    }
   ],
   "source": [
    "data"
   ]
  },
  {
   "cell_type": "code",
   "execution_count": 15,
   "id": "573109c9",
   "metadata": {},
   "outputs": [],
   "source": [
    "# how did I do this?\n",
    "# I used GenAI - in this case, ChatGPT and evaluated the response.\n",
    "# I typed\n",
    "# Please construct a API call in python using the rules described at:\n",
    "# https://www.industrydocuments.ucsf.edu/wp-content/uploads/2020/08/IndustryDocumentsDataAPI_v7.pdf\"\n",
    "\n",
    "# this created the code above, though I did need to replace with the proper ID."
   ]
  },
  {
   "cell_type": "code",
   "execution_count": null,
   "id": "9f7cbb50",
   "metadata": {},
   "outputs": [],
   "source": []
  }
 ],
 "metadata": {
  "kernelspec": {
   "display_name": "Python 3 (ipykernel)",
   "language": "python",
   "name": "python3"
  },
  "language_info": {
   "codemirror_mode": {
    "name": "ipython",
    "version": 3
   },
   "file_extension": ".py",
   "mimetype": "text/x-python",
   "name": "python",
   "nbconvert_exporter": "python",
   "pygments_lexer": "ipython3",
   "version": "3.10.9"
  }
 },
 "nbformat": 4,
 "nbformat_minor": 5
}
